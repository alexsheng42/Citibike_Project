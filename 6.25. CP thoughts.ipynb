{
 "cells": [
  {
   "cell_type": "code",
   "execution_count": 120,
   "metadata": {
    "collapsed": true
   },
   "outputs": [],
   "source": [
    "import pandas as pd\n",
    "import heapq\n",
    "import operator\n",
    "import networkx as nx\n",
    "import os\n",
    "import itertools\n",
    "import numpy as np"
   ]
  },
  {
   "cell_type": "code",
   "execution_count": 8,
   "metadata": {
    "collapsed": false
   },
   "outputs": [],
   "source": [
    "data_path = os.path.join(os.getcwd(),\"Unzip data\")"
   ]
  },
  {
   "cell_type": "code",
   "execution_count": 140,
   "metadata": {
    "collapsed": true
   },
   "outputs": [],
   "source": [
    "df ={}\n",
    "for i in ['2016','2015','2014']:\n",
    "    df[i+'09'] = pd.read_csv(os.path.join(data_path,i+\"09-citibike-tripdata.csv\"))"
   ]
  },
  {
   "cell_type": "code",
   "execution_count": 141,
   "metadata": {
    "collapsed": false
   },
   "outputs": [
    {
     "data": {
      "text/html": [
       "<div>\n",
       "<table border=\"1\" class=\"dataframe\">\n",
       "  <thead>\n",
       "    <tr style=\"text-align: right;\">\n",
       "      <th></th>\n",
       "      <th>tripduration</th>\n",
       "      <th>starttime</th>\n",
       "      <th>stoptime</th>\n",
       "      <th>start station id</th>\n",
       "      <th>start station name</th>\n",
       "      <th>start station latitude</th>\n",
       "      <th>start station longitude</th>\n",
       "      <th>end station id</th>\n",
       "      <th>end station name</th>\n",
       "      <th>end station latitude</th>\n",
       "      <th>end station longitude</th>\n",
       "      <th>bikeid</th>\n",
       "      <th>usertype</th>\n",
       "      <th>birth year</th>\n",
       "      <th>gender</th>\n",
       "    </tr>\n",
       "  </thead>\n",
       "  <tbody>\n",
       "    <tr>\n",
       "      <th>0</th>\n",
       "      <td>975</td>\n",
       "      <td>9/1/2016 00:00:02</td>\n",
       "      <td>9/1/2016 00:16:18</td>\n",
       "      <td>312</td>\n",
       "      <td>Allen St &amp; Stanton St</td>\n",
       "      <td>40.722055</td>\n",
       "      <td>-73.989111</td>\n",
       "      <td>313</td>\n",
       "      <td>Washington Ave &amp; Park Ave</td>\n",
       "      <td>40.696102</td>\n",
       "      <td>-73.967510</td>\n",
       "      <td>22609</td>\n",
       "      <td>Subscriber</td>\n",
       "      <td>1985.0</td>\n",
       "      <td>1</td>\n",
       "    </tr>\n",
       "    <tr>\n",
       "      <th>1</th>\n",
       "      <td>1220</td>\n",
       "      <td>9/1/2016 00:00:04</td>\n",
       "      <td>9/1/2016 00:20:25</td>\n",
       "      <td>316</td>\n",
       "      <td>Fulton St &amp; William St</td>\n",
       "      <td>40.709560</td>\n",
       "      <td>-74.006536</td>\n",
       "      <td>239</td>\n",
       "      <td>Willoughby St &amp; Fleet St</td>\n",
       "      <td>40.691966</td>\n",
       "      <td>-73.981302</td>\n",
       "      <td>16966</td>\n",
       "      <td>Subscriber</td>\n",
       "      <td>1977.0</td>\n",
       "      <td>2</td>\n",
       "    </tr>\n",
       "    <tr>\n",
       "      <th>2</th>\n",
       "      <td>308</td>\n",
       "      <td>9/1/2016 00:00:19</td>\n",
       "      <td>9/1/2016 00:05:27</td>\n",
       "      <td>479</td>\n",
       "      <td>9 Ave &amp; W 45 St</td>\n",
       "      <td>40.760193</td>\n",
       "      <td>-73.991255</td>\n",
       "      <td>448</td>\n",
       "      <td>W 37 St &amp; 10 Ave</td>\n",
       "      <td>40.756604</td>\n",
       "      <td>-73.997901</td>\n",
       "      <td>25601</td>\n",
       "      <td>Subscriber</td>\n",
       "      <td>1983.0</td>\n",
       "      <td>1</td>\n",
       "    </tr>\n",
       "    <tr>\n",
       "      <th>3</th>\n",
       "      <td>250</td>\n",
       "      <td>9/1/2016 00:00:25</td>\n",
       "      <td>9/1/2016 00:04:35</td>\n",
       "      <td>297</td>\n",
       "      <td>E 15 St &amp; 3 Ave</td>\n",
       "      <td>40.734232</td>\n",
       "      <td>-73.986923</td>\n",
       "      <td>487</td>\n",
       "      <td>E 20 St &amp; FDR Drive</td>\n",
       "      <td>40.733143</td>\n",
       "      <td>-73.975739</td>\n",
       "      <td>22094</td>\n",
       "      <td>Subscriber</td>\n",
       "      <td>1953.0</td>\n",
       "      <td>1</td>\n",
       "    </tr>\n",
       "    <tr>\n",
       "      <th>4</th>\n",
       "      <td>439</td>\n",
       "      <td>9/1/2016 00:00:25</td>\n",
       "      <td>9/1/2016 00:07:45</td>\n",
       "      <td>494</td>\n",
       "      <td>W 26 St &amp; 8 Ave</td>\n",
       "      <td>40.747348</td>\n",
       "      <td>-73.997236</td>\n",
       "      <td>533</td>\n",
       "      <td>Broadway &amp; W 39 St</td>\n",
       "      <td>40.752996</td>\n",
       "      <td>-73.987216</td>\n",
       "      <td>16319</td>\n",
       "      <td>Subscriber</td>\n",
       "      <td>1985.0</td>\n",
       "      <td>1</td>\n",
       "    </tr>\n",
       "  </tbody>\n",
       "</table>\n",
       "</div>"
      ],
      "text/plain": [
       "   tripduration          starttime           stoptime  start station id  \\\n",
       "0           975  9/1/2016 00:00:02  9/1/2016 00:16:18               312   \n",
       "1          1220  9/1/2016 00:00:04  9/1/2016 00:20:25               316   \n",
       "2           308  9/1/2016 00:00:19  9/1/2016 00:05:27               479   \n",
       "3           250  9/1/2016 00:00:25  9/1/2016 00:04:35               297   \n",
       "4           439  9/1/2016 00:00:25  9/1/2016 00:07:45               494   \n",
       "\n",
       "       start station name  start station latitude  start station longitude  \\\n",
       "0   Allen St & Stanton St               40.722055               -73.989111   \n",
       "1  Fulton St & William St               40.709560               -74.006536   \n",
       "2         9 Ave & W 45 St               40.760193               -73.991255   \n",
       "3         E 15 St & 3 Ave               40.734232               -73.986923   \n",
       "4         W 26 St & 8 Ave               40.747348               -73.997236   \n",
       "\n",
       "   end station id           end station name  end station latitude  \\\n",
       "0             313  Washington Ave & Park Ave             40.696102   \n",
       "1             239   Willoughby St & Fleet St             40.691966   \n",
       "2             448           W 37 St & 10 Ave             40.756604   \n",
       "3             487        E 20 St & FDR Drive             40.733143   \n",
       "4             533         Broadway & W 39 St             40.752996   \n",
       "\n",
       "   end station longitude  bikeid    usertype  birth year  gender  \n",
       "0             -73.967510   22609  Subscriber      1985.0       1  \n",
       "1             -73.981302   16966  Subscriber      1977.0       2  \n",
       "2             -73.997901   25601  Subscriber      1983.0       1  \n",
       "3             -73.975739   22094  Subscriber      1953.0       1  \n",
       "4             -73.987216   16319  Subscriber      1985.0       1  "
      ]
     },
     "execution_count": 141,
     "metadata": {},
     "output_type": "execute_result"
    }
   ],
   "source": [
    "df['201609'].head()"
   ]
  },
  {
   "cell_type": "code",
   "execution_count": 131,
   "metadata": {
    "collapsed": false
   },
   "outputs": [
    {
     "name": "stderr",
     "output_type": "stream",
     "text": [
      "C:\\tool\\Anaconda2\\lib\\site-packages\\ipykernel\\__main__.py:3: UserWarning: Boolean Series key will be reindexed to match DataFrame index.\n",
      "  app.launch_new_instance()\n"
     ]
    }
   ],
   "source": [
    "median_duration_1609_sub = np.median(df_201609[df_201609['usertype']=='Subscriber']['tripduration'])\n",
    "median_duration_1509_sub = np.median(df_201509[df_201509['usertype']=='Subscriber']['tripduration'])\n",
    "median_duration_1409_sub = np.median(df_201409[df_201509['usertype']=='Subscriber']['tripduration'])\n",
    "\n",
    "print(median_duration_1609_sub, median_duration_1509_sub, median_duration_1409_sub)"
   ]
  },
  {
   "cell_type": "code",
   "execution_count": 134,
   "metadata": {
    "collapsed": false
   },
   "outputs": [
    {
     "name": "stdout",
     "output_type": "stream",
     "text": [
      "(1269.0, 1229.0, 1216.0)\n"
     ]
    }
   ],
   "source": [
    "median_duration_1609_cus = np.median(df_201609[df_201609['usertype']!='Subscriber']['tripduration'])\n",
    "median_duration_1509_cus = np.median(df_201509[df_201509['usertype']!='Subscriber']['tripduration'])\n",
    "median_duration_1409_cus = np.median(df_201409[df_201409['usertype']!='Subscriber']['tripduration'])\n",
    "\n",
    "print(median_duration_1609_cus, median_duration_1509_cus, median_duration_1409_cus)"
   ]
  },
  {
   "cell_type": "code",
   "execution_count": 144,
   "metadata": {
    "collapsed": false
   },
   "outputs": [],
   "source": [
    "routes_all = {}\n",
    "for i in ['2016','2015','2014']:\n",
    "    routes_all[i] = [tuple(x) for x in df[i+'09'][['start station name','end station name']].values]\n"
   ]
  },
  {
   "cell_type": "code",
   "execution_count": 145,
   "metadata": {
    "collapsed": false
   },
   "outputs": [],
   "source": [
    "G_all = {}\n",
    "for i in ['2016','2015','2014']:\n",
    "    G_all[i] = nx.DiGraph()\n",
    "    for route in routes_all[i]:\n",
    "        G_all[i].add_nodes_from(route)\n",
    "        \n",
    "        if G_all[i].has_edge(route[0],route[1]):\n",
    "            G_all[i][route[0]][route[1]]['weight'] += 1\n",
    "        else:\n",
    "            G_all[i].add_edge(route[0], route[1], weight=1) "
   ]
  },
  {
   "cell_type": "markdown",
   "metadata": {},
   "source": [
    "for route in all_routes:\n",
    "    G.add_nodes_from(route)\n",
    "    \n",
    "    if G.has_edge(route[0],route[1]):\n",
    "        G[route[0]][route[1]]['weight'] += 1\n",
    "    else:\n",
    "        G.add_edge(route[0], route[1], weight=1)\n"
   ]
  },
  {
   "cell_type": "code",
   "execution_count": 149,
   "metadata": {
    "collapsed": false
   },
   "outputs": [
    {
     "name": "stdout",
     "output_type": "stream",
     "text": [
      "(624, 1648856.0, 1648856)\n",
      "(453, 1289699.0, 1289699)\n",
      "(328, 953887.0, 953887)\n"
     ]
    }
   ],
   "source": [
    "for i in ['2016','2015','2014']:\n",
    "    print(len(G_all[i].nodes()),G_all[i].size(weight='weight'),sum(list(G_all[i].degree(G_all[i].nodes(), weight = 'weight').values()))/2)\n",
    "    "
   ]
  },
  {
   "cell_type": "code",
   "execution_count": 96,
   "metadata": {
    "collapsed": false
   },
   "outputs": [
    {
     "name": "stdout",
     "output_type": "stream",
     "text": [
      "402\n",
      "445\n",
      "847\n"
     ]
    }
   ],
   "source": [
    "print G.in_degree('Pershing Square North')\n",
    "print G.out_degree('Pershing Square North')\n",
    "print G.degree('Pershing Square North')"
   ]
  },
  {
   "cell_type": "markdown",
   "metadata": {},
   "source": [
    "in_degree = sum of weights of incoming edges. out_degree = sum of weights of outgoing edges."
   ]
  },
  {
   "cell_type": "code",
   "execution_count": 159,
   "metadata": {
    "collapsed": false
   },
   "outputs": [
    {
     "name": "stdout",
     "output_type": "stream",
     "text": [
      "2016 popular destinations:\n",
      "('Pershing Square North', 16215)\n",
      "('West St & Chambers St', 14082)\n",
      "('Cooper Square & E 7 St', 13077)\n",
      "('Broadway & E 22 St', 11672)\n",
      "('E 17 St & Broadway', 11205)\n",
      "('12 Ave & W 40 St', 10865)\n",
      "('W 21 St & 6 Ave', 10766)\n",
      "('Central Park S & 6 Ave', 10121)\n",
      "('Broadway & E 14 St', 9606)\n",
      "('W 20 St & 11 Ave', 9598)\n",
      "2015 popular destinations:\n",
      "('8 Ave & W 31 St', 11875)\n",
      "('Pershing Square North', 11867)\n",
      "('Lafayette St & E 8 St', 11431)\n",
      "('West St & Chambers St', 10807)\n",
      "('E 17 St & Broadway', 10498)\n",
      "('W 21 St & 6 Ave', 10393)\n",
      "('Cleveland Pl & Spring St', 9178)\n",
      "('Broadway & E 14 St', 9082)\n",
      "('W 41 St & 8 Ave', 8488)\n",
      "('Greenwich Ave & 8 Ave', 8433)\n",
      "2014 popular destinations:\n",
      "('E 17 St & Broadway', 10138)\n",
      "('Lafayette St & E 8 St', 9685)\n",
      "('8 Ave & W 31 St', 9563)\n",
      "('W 21 St & 6 Ave', 8637)\n",
      "('Pershing Square North', 8602)\n",
      "('University Pl & E 14 St', 8026)\n",
      "('West St & Chambers St', 7840)\n",
      "('Broadway & E 14 St', 7353)\n",
      "('Greenwich Ave & 8 Ave', 7209)\n",
      "('Cleveland Pl & Spring St', 7177)\n"
     ]
    }
   ],
   "source": [
    "#popular_destinations = heapq.nlargest(10, (G.in_degree(G.nodes(), weight = 'weight')).items(), key=operator.itemgetter(1))\n",
    "for i in ['2016','2015','2014']:\n",
    "    print i,'popular destinations:'\n",
    "    for item in heapq.nlargest(10, (G_all[i].in_degree(G_all[i].nodes(), weight = 'weight')).items(), key=operator.itemgetter(1)):\n",
    "        print item\n",
    "\n",
    "#popular_destinations"
   ]
  },
  {
   "cell_type": "code",
   "execution_count": 158,
   "metadata": {
    "collapsed": false
   },
   "outputs": [
    {
     "name": "stdout",
     "output_type": "stream",
     "text": [
      "2016 popular starts:\n",
      "('Pershing Square North', 16556)\n",
      "('West St & Chambers St', 13039)\n",
      "('Cooper Square & E 7 St', 12982)\n",
      "('E 17 St & Broadway', 11032)\n",
      "('Broadway & E 22 St', 10762)\n",
      "('W 21 St & 6 Ave', 10649)\n",
      "('Central Park S & 6 Ave', 10512)\n",
      "('12 Ave & W 40 St', 10277)\n",
      "('Broadway & E 14 St', 9624)\n",
      "('8 Ave & W 33 St', 9460)\n",
      "2015 popular starts:\n",
      "('8 Ave & W 31 St', 14923)\n",
      "('Pershing Square North', 14063)\n",
      "('Lafayette St & E 8 St', 11291)\n",
      "('West St & Chambers St', 10460)\n",
      "('W 21 St & 6 Ave', 10286)\n",
      "('E 17 St & Broadway', 10127)\n",
      "('Cleveland Pl & Spring St', 9120)\n",
      "('Broadway & E 14 St', 9053)\n",
      "('Carmine St & 6 Ave', 8525)\n",
      "('Vesey Pl & River Terrace', 8333)\n",
      "2014 popular starts:\n",
      "('8 Ave & W 31 St', 12441)\n",
      "('Pershing Square North', 10540)\n",
      "('Lafayette St & E 8 St', 10357)\n",
      "('E 17 St & Broadway', 9607)\n",
      "('W 21 St & 6 Ave', 8556)\n",
      "('West St & Chambers St', 8123)\n",
      "('University Pl & E 14 St', 7740)\n",
      "('Broadway & E 14 St', 7320)\n",
      "('Broadway & W 24 St', 6990)\n",
      "('Vesey Pl & River Terrace', 6919)\n"
     ]
    }
   ],
   "source": [
    "for i in ['2016','2015','2014']:    \n",
    "    print i,'popular starts:'\n",
    "    for item in heapq.nlargest(10, (G_all[i].out_degree(G_all[i].nodes(), weight = 'weight')).items(), key=operator.itemgetter(1)):\n",
    "        print item"
   ]
  },
  {
   "cell_type": "markdown",
   "metadata": {},
   "source": [
    "pagerank = heapq.nlargest(10, (nx.pagerank(G)).items(), key=operator.itemgetter(1))\n",
    "pagerank"
   ]
  },
  {
   "cell_type": "code",
   "execution_count": 162,
   "metadata": {
    "collapsed": false
   },
   "outputs": [
    {
     "name": "stdout",
     "output_type": "stream",
     "text": [
      "2016 favorate routes\n",
      "('Central Park S & 6 Ave', '5 Ave & E 88 St', {'weight': 1016})\n",
      "('Central Park S & 6 Ave', 'Central Park S & 6 Ave', {'weight': 972})\n",
      "('Yankee Ferry Terminal', 'Yankee Ferry Terminal', {'weight': 945})\n",
      "('Yankee Ferry Terminal', 'Soissons Landing', {'weight': 901})\n",
      "('Soissons Landing', 'Yankee Ferry Terminal', {'weight': 896})\n",
      "('12 Ave & W 40 St', 'West St & Chambers St', {'weight': 723})\n",
      "('Central Park S & 6 Ave', '5 Ave & E 73 St', {'weight': 631})\n",
      "('Soissons Landing', 'Soissons Landing', {'weight': 625})\n",
      "('West St & Chambers St', '12 Ave & W 40 St', {'weight': 591})\n",
      "('Central Park S & 6 Ave', '5 Ave & E 78 St', {'weight': 552})\n",
      "2015 favorate routes\n",
      "('Central Park S & 6 Ave', 'Central Park S & 6 Ave', {'weight': 2022})\n",
      "('Central Park West & W 72 St', 'Central Park West & W 72 St', {'weight': 988})\n",
      "('Central Park S & 6 Ave', 'Central Park West & W 72 St', {'weight': 913})\n",
      "('Centre St & Chambers St', 'Centre St & Chambers St', {'weight': 692})\n",
      "('Grand Army Plaza & Central Park S', 'Grand Army Plaza & Central Park S', {'weight': 690})\n",
      "('Soissons Landing', 'Soissons Landing', {'weight': 639})\n",
      "('12 Ave & W 40 St', 'West St & Chambers St', {'weight': 615})\n",
      "('Yankee Ferry Terminal', 'Yankee Ferry Terminal', {'weight': 605})\n",
      "('E 43 St & Vanderbilt Ave', 'W 41 St & 8 Ave', {'weight': 547})\n",
      "('W 17 St & 8 Ave', '8 Ave & W 31 St', {'weight': 524})\n",
      "2014 favorate routes\n",
      "('Central Park S & 6 Ave', 'Central Park S & 6 Ave', {'weight': 1640})\n",
      "('Grand Army Plaza & Central Park S', 'Grand Army Plaza & Central Park S', {'weight': 670})\n",
      "('Broadway & W 60 St', 'Broadway & W 60 St', {'weight': 625})\n",
      "('Pershing Square North', 'W 41 St & 8 Ave', {'weight': 422})\n",
      "('Washington Square E', 'University Pl & E 14 St', {'weight': 421})\n",
      "('Grand Army Plaza & Central Park S', 'Broadway & W 60 St', {'weight': 401})\n",
      "('W 17 St & 8 Ave', '8 Ave & W 31 St', {'weight': 398})\n",
      "('Pershing Square North', 'W 33 St & 7 Ave', {'weight': 382})\n",
      "('Centre St & Chambers St', 'Centre St & Chambers St', {'weight': 374})\n",
      "('12 Ave & W 40 St', '12 Ave & W 40 St', {'weight': 370})\n"
     ]
    }
   ],
   "source": [
    "for i in ['2016','2015','2014']:  \n",
    "    print i, 'favorate routes'\n",
    "    for route in heapq.nlargest(10, G_all[i].edges(data=True), key=operator.itemgetter(2)):\n",
    "        print route\n"
   ]
  },
  {
   "cell_type": "markdown",
   "metadata": {},
   "source": [
    "The graph is directed - G[u][v] != G[v][u]"
   ]
  },
  {
   "cell_type": "code",
   "execution_count": 93,
   "metadata": {
    "collapsed": false
   },
   "outputs": [
    {
     "name": "stdout",
     "output_type": "stream",
     "text": [
      "{'weight': 40}\n",
      "{'weight': 18}\n"
     ]
    }
   ],
   "source": [
    "print G['Pershing Square North']['West St & Chambers St']\n",
    "\n",
    "print G['West St & Chambers St']['Pershing Square North']"
   ]
  },
  {
   "cell_type": "code",
   "execution_count": 164,
   "metadata": {
    "collapsed": false
   },
   "outputs": [],
   "source": [
    "routes_sub = {}\n",
    "routes_cus = {}\n",
    "for i in ['2016','2015','2014']:\n",
    "    routes_sub[i] = [tuple(x) for x in df[i+'09'][df[i+'09']['usertype']=='Subscriber'][['start station name','end station name']].values]\n",
    "    routes_cus[i] = [tuple(x) for x in df[i+'09'][df[i+'09']['usertype']!='Subscriber'][['start station name','end station name']].values]\n",
    "#df_sub = df_201609[df_201609['usertype']=='Subscriber'][['start station name','end station name']]\n",
    "#df_cus = df_201609[df_201609['usertype']!='Subscriber'][['start station name','end station name']]"
   ]
  },
  {
   "cell_type": "markdown",
   "metadata": {},
   "source": [
    "all_routes_sub = [tuple(x) for x in df_sub.values]\n",
    "all_routes_cus = [tuple(x) for x in df_cus.values]"
   ]
  },
  {
   "cell_type": "code",
   "execution_count": 165,
   "metadata": {
    "collapsed": true
   },
   "outputs": [],
   "source": [
    "G_sub = {}\n",
    "G_cus = {}\n",
    "for i in ['2016','2015','2014']:\n",
    "    G_sub[i] = nx.DiGraph()\n",
    "    for route in routes_sub[i]:\n",
    "        G_sub[i].add_nodes_from(route)\n",
    "    \n",
    "        if G_sub[i].has_edge(route[0],route[1]):\n",
    "            G_sub[i][route[0]][route[1]]['weight'] += 1\n",
    "        else:\n",
    "            G_sub[i].add_edge(route[0], route[1], weight=1)\n",
    "        \n",
    "    G_cus[i] = nx.DiGraph()\n",
    "    for route in routes_cus[i]:\n",
    "        G_cus[i].add_nodes_from(route)\n",
    "    \n",
    "        if G_cus[i].has_edge(route[0],route[1]):\n",
    "            G_cus[i][route[0]][route[1]]['weight'] += 1\n",
    "        else:\n",
    "            G_cus[i].add_edge(route[0], route[1], weight=1)"
   ]
  },
  {
   "cell_type": "code",
   "execution_count": 166,
   "metadata": {
    "collapsed": false
   },
   "outputs": [
    {
     "name": "stdout",
     "output_type": "stream",
     "text": [
      "2016 favorite routes of subscribers\n",
      "('E 85 St & York Ave', 'E 85 St & 3 Ave', {'weight': 508})\n",
      "('Pershing Square North', 'W 33 St & 7 Ave', {'weight': 495})\n",
      "('W 21 St & 6 Ave', '9 Ave & W 22 St', {'weight': 462})\n",
      "('Soissons Landing', 'Yankee Ferry Terminal', {'weight': 437})\n",
      "('Pershing Square North', 'Broadway & W 32 St', {'weight': 434})\n",
      "('Yankee Ferry Terminal', 'Yankee Ferry Terminal', {'weight': 427})\n",
      "('Cooper Square & E 7 St', 'E 10 St & Avenue A', {'weight': 426})\n",
      "('Yankee Ferry Terminal', 'Soissons Landing', {'weight': 415})\n",
      "('W 21 St & 6 Ave', 'W 22 St & 10 Ave', {'weight': 403})\n",
      "('Greenwich Ave & Charles St', 'Greenwich Ave & Charles St', {'weight': 401})\n",
      "2015 favorite routes of subscribers\n",
      "('E 43 St & Vanderbilt Ave', 'W 41 St & 8 Ave', {'weight': 545})\n",
      "('W 17 St & 8 Ave', '8 Ave & W 31 St', {'weight': 501})\n",
      "('W 21 St & 6 Ave', '9 Ave & W 22 St', {'weight': 428})\n",
      "('Vernon Blvd & 50 Ave', '46 Ave & 5 St', {'weight': 414})\n",
      "('Pershing Square North', 'W 33 St & 7 Ave', {'weight': 410})\n",
      "('Pershing Square North', 'W 41 St & 8 Ave', {'weight': 402})\n",
      "('N Henry St & Richardson St', 'Graham Ave & Conselyea St', {'weight': 375})\n",
      "('E 7 St & Avenue A', 'Lafayette St & E 8 St', {'weight': 374})\n",
      "('W 21 St & 6 Ave', 'W 22 St & 10 Ave', {'weight': 347})\n",
      "('E 10 St & Avenue A', 'Lafayette St & E 8 St', {'weight': 339})\n",
      "2014 favorite routes of subscribers\n",
      "('Pershing Square North', 'W 41 St & 8 Ave', {'weight': 412})\n",
      "('Washington Square E', 'University Pl & E 14 St', {'weight': 399})\n",
      "('W 17 St & 8 Ave', '8 Ave & W 31 St', {'weight': 384})\n",
      "('Pershing Square North', 'W 33 St & 7 Ave', {'weight': 376})\n",
      "('E 43 St & Vanderbilt Ave', 'W 41 St & 8 Ave', {'weight': 352})\n",
      "('E 43 St & Vanderbilt Ave', 'W 33 St & 7 Ave', {'weight': 332})\n",
      "('Greenwich St & Warren St', 'Centre St & Chambers St', {'weight': 323})\n",
      "('E 7 St & Avenue A', 'Lafayette St & E 8 St', {'weight': 317})\n",
      "('W 21 St & 6 Ave', 'W 22 St & 10 Ave', {'weight': 312})\n",
      "('W 21 St & 6 Ave', '9 Ave & W 22 St', {'weight': 305})\n"
     ]
    }
   ],
   "source": [
    "for i in ['2016','2015','2014']:\n",
    "    print i, \"favorite routes of subscribers\"\n",
    "    for route in heapq.nlargest(10, G_sub[i].edges(data=True), key=operator.itemgetter(2)):\n",
    "        print route\n",
    "    \n",
    "#favorite_routes_sub = heapq.nlargest(10, G1.edges(data=True), key=operator.itemgetter(2))\n",
    "#favorite_routes_sub"
   ]
  },
  {
   "cell_type": "code",
   "execution_count": 113,
   "metadata": {
    "collapsed": false
   },
   "outputs": [
    {
     "data": {
      "text/plain": [
       "1427639"
      ]
     },
     "execution_count": 113,
     "metadata": {},
     "output_type": "execute_result"
    }
   ],
   "source": [
    "sum(list(G1.degree(G1.nodes(), weight = 'weight').values()))/2"
   ]
  },
  {
   "cell_type": "code",
   "execution_count": 126,
   "metadata": {
    "collapsed": false
   },
   "outputs": [
    {
     "data": {
      "text/plain": [
       "[('Central Park S & 6 Ave', '5 Ave & E 88 St', {'weight': 938}),\n",
       " ('Central Park S & 6 Ave', 'Central Park S & 6 Ave', {'weight': 783}),\n",
       " ('Central Park S & 6 Ave', '5 Ave & E 73 St', {'weight': 519}),\n",
       " ('Yankee Ferry Terminal', 'Yankee Ferry Terminal', {'weight': 518}),\n",
       " ('Yankee Ferry Terminal', 'Soissons Landing', {'weight': 486}),\n",
       " ('Centre St & Chambers St', 'Centre St & Chambers St', {'weight': 485}),\n",
       " ('Central Park S & 6 Ave', '5 Ave & E 78 St', {'weight': 474}),\n",
       " ('Central Park S & 6 Ave',\n",
       "  'Central Park North & Adam Clayton Powell Blvd',\n",
       "  {'weight': 469}),\n",
       " ('Soissons Landing', 'Yankee Ferry Terminal', {'weight': 459}),\n",
       " ('Centre St & Chambers St', 'Cadman Plaza E & Tillary St', {'weight': 416}),\n",
       " ('12 Ave & W 40 St', 'West St & Chambers St', {'weight': 380}),\n",
       " ('Old Fulton St', 'Centre St & Chambers St', {'weight': 379}),\n",
       " ('5 Ave & E 88 St',\n",
       "  'Central Park North & Adam Clayton Powell Blvd',\n",
       "  {'weight': 376}),\n",
       " ('Central Park North & Adam Clayton Powell Blvd',\n",
       "  'Central Park S & 6 Ave',\n",
       "  {'weight': 368}),\n",
       " ('Central Park S & 6 Ave', 'Central Park West & W 72 St', {'weight': 355}),\n",
       " ('Central Park North & Adam Clayton Powell Blvd',\n",
       "  'Central Park West & W 72 St',\n",
       "  {'weight': 344}),\n",
       " ('Central Park West & W 72 St',\n",
       "  'Central Park West & W 72 St',\n",
       "  {'weight': 329}),\n",
       " ('West St & Chambers St', '12 Ave & W 40 St', {'weight': 329}),\n",
       " ('12 Ave & W 40 St', 'Pier 40 - Hudson River Park', {'weight': 325}),\n",
       " ('5 Ave & E 73 St', '5 Ave & E 73 St', {'weight': 319}),\n",
       " ('Cadman Plaza E & Red Cross Pl', 'Centre St & Chambers St', {'weight': 317}),\n",
       " ('Soissons Landing', 'Soissons Landing', {'weight': 315}),\n",
       " ('5 Ave & E 73 St', '5 Ave & E 88 St', {'weight': 311}),\n",
       " ('Cadman Plaza E & Tillary St', 'Centre St & Chambers St', {'weight': 291}),\n",
       " ('Grand Army Plaza & Central Park S', '5 Ave & E 88 St', {'weight': 284}),\n",
       " ('Central Park West & W 72 St', 'Central Park S & 6 Ave', {'weight': 282}),\n",
       " ('Pier 40 - Hudson River Park', 'Little West St & 1 Pl', {'weight': 269}),\n",
       " ('Central Park West & W 72 St', '5 Ave & E 73 St', {'weight': 262}),\n",
       " ('Grand Army Plaza & Central Park S',\n",
       "  'Grand Army Plaza & Central Park S',\n",
       "  {'weight': 260}),\n",
       " ('West St & Chambers St', 'Little West St & 1 Pl', {'weight': 257})]"
      ]
     },
     "execution_count": 126,
     "metadata": {},
     "output_type": "execute_result"
    }
   ],
   "source": [
    "favorite_routes_cus = heapq.nlargest(30, G2.edges(data=True), key=operator.itemgetter(2))\n",
    "favorite_routes_cus\n"
   ]
  },
  {
   "cell_type": "code",
   "execution_count": 173,
   "metadata": {
    "collapsed": false
   },
   "outputs": [
    {
     "name": "stdout",
     "output_type": "stream",
     "text": [
      "2016 favorite routes of non-subscribers\n",
      "\n",
      "('Central Park S & 6 Ave', '5 Ave & E 88 St', {'weight': 938})\n",
      "('Central Park S & 6 Ave', 'Central Park S & 6 Ave', {'weight': 783})\n",
      "('Central Park S & 6 Ave', '5 Ave & E 73 St', {'weight': 519})\n",
      "('Yankee Ferry Terminal', 'Yankee Ferry Terminal', {'weight': 518})\n",
      "('Yankee Ferry Terminal', 'Soissons Landing', {'weight': 486})\n",
      "('Centre St & Chambers St', 'Centre St & Chambers St', {'weight': 485})\n",
      "('Central Park S & 6 Ave', '5 Ave & E 78 St', {'weight': 474})\n",
      "('Central Park S & 6 Ave', 'Central Park North & Adam Clayton Powell Blvd', {'weight': 469})\n",
      "('Soissons Landing', 'Yankee Ferry Terminal', {'weight': 459})\n",
      "('Centre St & Chambers St', 'Cadman Plaza E & Tillary St', {'weight': 416})\n",
      "('12 Ave & W 40 St', 'West St & Chambers St', {'weight': 380})\n",
      "('Old Fulton St', 'Centre St & Chambers St', {'weight': 379})\n",
      "('5 Ave & E 88 St', 'Central Park North & Adam Clayton Powell Blvd', {'weight': 376})\n",
      "('Central Park North & Adam Clayton Powell Blvd', 'Central Park S & 6 Ave', {'weight': 368})\n",
      "('Central Park S & 6 Ave', 'Central Park West & W 72 St', {'weight': 355})\n",
      "('Central Park North & Adam Clayton Powell Blvd', 'Central Park West & W 72 St', {'weight': 344})\n",
      "('Central Park West & W 72 St', 'Central Park West & W 72 St', {'weight': 329})\n",
      "('West St & Chambers St', '12 Ave & W 40 St', {'weight': 329})\n",
      "('12 Ave & W 40 St', 'Pier 40 - Hudson River Park', {'weight': 325})\n",
      "('5 Ave & E 73 St', '5 Ave & E 73 St', {'weight': 319})\n",
      "2015 favorite routes of non-subscribers\n",
      "\n",
      "('Central Park S & 6 Ave', 'Central Park S & 6 Ave', {'weight': 1798})\n",
      "('Central Park West & W 72 St', 'Central Park West & W 72 St', {'weight': 872})\n",
      "('Central Park S & 6 Ave', 'Central Park West & W 72 St', {'weight': 808})\n",
      "('Centre St & Chambers St', 'Centre St & Chambers St', {'weight': 652})\n",
      "('Grand Army Plaza & Central Park S', 'Grand Army Plaza & Central Park S', {'weight': 609})\n",
      "('Old Fulton St', 'Centre St & Chambers St', {'weight': 460})\n",
      "('Soissons Landing', 'Soissons Landing', {'weight': 421})\n",
      "('Central Park West & W 72 St', 'Central Park S & 6 Ave', {'weight': 406})\n",
      "('12 Ave & W 40 St', 'West St & Chambers St', {'weight': 396})\n",
      "('Yankee Ferry Terminal', 'Yankee Ferry Terminal', {'weight': 383})\n",
      "('Grand Army Plaza & Central Park S', 'Central Park West & W 72 St', {'weight': 363})\n",
      "('Centre St & Chambers St', 'Cadman Plaza E & Tillary St', {'weight': 327})\n",
      "('Yankee Ferry Terminal', 'Soissons Landing', {'weight': 316})\n",
      "('Soissons Landing', 'Yankee Ferry Terminal', {'weight': 307})\n",
      "('Centre St & Chambers St', 'Clinton St & Tillary St', {'weight': 295})\n",
      "('Grand Army Plaza & Central Park S', 'Central Park S & 6 Ave', {'weight': 295})\n",
      "('Cadman Plaza E & Red Cross Pl', 'Centre St & Chambers St', {'weight': 290})\n",
      "('Broadway & W 60 St', 'Broadway & W 60 St', {'weight': 267})\n",
      "('Clinton St & Tillary St', 'Centre St & Chambers St', {'weight': 239})\n",
      "('Central Park West & W 72 St', 'Grand Army Plaza & Central Park S', {'weight': 234})\n",
      "2014 favorite routes of non-subscribers\n",
      "\n",
      "('Central Park S & 6 Ave', 'Central Park S & 6 Ave', {'weight': 1380})\n",
      "('Grand Army Plaza & Central Park S', 'Grand Army Plaza & Central Park S', {'weight': 538})\n",
      "('Broadway & W 60 St', 'Broadway & W 60 St', {'weight': 386})\n",
      "('Centre St & Chambers St', 'Centre St & Chambers St', {'weight': 333})\n",
      "('Grand Army Plaza & Central Park S', 'Central Park S & 6 Ave', {'weight': 235})\n",
      "('Centre St & Chambers St', 'Cadman Plaza E & Tillary St', {'weight': 211})\n",
      "('Old Fulton St', 'Centre St & Chambers St', {'weight': 211})\n",
      "('Central Park S & 6 Ave', 'Broadway & W 60 St', {'weight': 195})\n",
      "('Broadway & W 58 St', 'Broadway & W 58 St', {'weight': 180})\n",
      "('Central Park S & 6 Ave', 'Grand Army Plaza & Central Park S', {'weight': 173})\n",
      "('Cadman Plaza E & Tillary St', 'Centre St & Chambers St', {'weight': 159})\n",
      "('12 Ave & W 40 St', '12 Ave & W 40 St', {'weight': 155})\n",
      "('Grand Army Plaza & Central Park S', 'Broadway & W 60 St', {'weight': 150})\n",
      "('12 Ave & W 40 St', 'West St & Chambers St', {'weight': 144})\n",
      "('Old Fulton St', 'Old Fulton St', {'weight': 120})\n",
      "('West St & Chambers St', 'West St & Chambers St', {'weight': 119})\n",
      "('West St & Chambers St', '12 Ave & W 40 St', {'weight': 115})\n",
      "('South End Ave & Liberty St', 'South End Ave & Liberty St', {'weight': 112})\n",
      "('W 14 St & The High Line', 'West St & Chambers St', {'weight': 108})\n",
      "('Grand Army Plaza & Central Park S', 'Broadway & W 58 St', {'weight': 104})\n"
     ]
    }
   ],
   "source": [
    "for i in ['2016','2015','2014']:\n",
    "    print i, \"favorite routes of non-subscribers\\n\"\n",
    "    for route in heapq.nlargest(20, G_cus[i].edges(data=True), key=operator.itemgetter(2)):\n",
    "        print route"
   ]
  },
  {
   "cell_type": "code",
   "execution_count": 171,
   "metadata": {
    "collapsed": false
   },
   "outputs": [
    {
     "name": "stdout",
     "output_type": "stream",
     "text": [
      "2016 popular stations of non-subscribers\n",
      "\n",
      "('Central Park S & 6 Ave', 11592)\n",
      "('Centre St & Chambers St', 7905)\n",
      "('West St & Chambers St', 6765)\n",
      "('12 Ave & W 40 St', 6686)\n",
      "('5 Ave & E 73 St', 6665)\n",
      "('5 Ave & E 88 St', 6445)\n",
      "('Central Park West & W 72 St', 5790)\n",
      "('Grand Army Plaza & Central Park S', 5783)\n",
      "('Central Park North & Adam Clayton Powell Blvd', 5494)\n",
      "('5 Ave & E 78 St', 4962)\n",
      "('Pier 40 - Hudson River Park', 4760)\n",
      "('Old Fulton St', 3980)\n",
      "('Little West St & 1 Pl', 3868)\n",
      "('Broadway & W 60 St', 3678)\n",
      "('South End Ave & Liberty St', 3553)\n",
      "('Washington St & Gansevoort St', 3410)\n",
      "('Central Park West & W 76 St', 3362)\n",
      "('W 20 St & 11 Ave', 3230)\n",
      "('Central Park West & W 68 St', 3195)\n",
      "('W 14 St & The High Line', 3116)\n",
      "2015 popular stations of non-subscribers\n",
      "\n",
      "('Central Park S & 6 Ave', 10417)\n",
      "('Centre St & Chambers St', 8811)\n",
      "('Central Park West & W 72 St', 7132)\n",
      "('West St & Chambers St', 6251)\n",
      "('Grand Army Plaza & Central Park S', 5861)\n",
      "('12 Ave & W 40 St', 5589)\n",
      "('South End Ave & Liberty St', 4192)\n",
      "('Washington St & Gansevoort St', 4094)\n",
      "('Old Fulton St', 3927)\n",
      "('Broadway & W 60 St', 3606)\n",
      "('Vesey Pl & River Terrace', 3368)\n",
      "('S 5 Pl & S 4 St', 3204)\n",
      "('W 14 St & The High Line', 3146)\n",
      "('Cleveland Pl & Spring St', 3075)\n",
      "('Broadway & W 24 St', 3055)\n",
      "('W 20 St & 11 Ave', 2934)\n",
      "('Kent Ave & N 7 St', 2719)\n",
      "('Broadway & W 58 St', 2712)\n",
      "('Central Park West & W 68 St', 2630)\n",
      "('Central Park West & W 76 St', 2594)\n",
      "2014 popular stations of non-subscribers\n",
      "\n",
      "('Central Park S & 6 Ave', 5470)\n",
      "('Centre St & Chambers St', 4137)\n",
      "('Grand Army Plaza & Central Park S', 3885)\n",
      "('West St & Chambers St', 3281)\n",
      "('Broadway & W 60 St', 3173)\n",
      "('12 Ave & W 40 St', 2582)\n",
      "('Broadway & W 58 St', 2093)\n",
      "('South End Ave & Liberty St', 2089)\n",
      "('Broadway & W 24 St', 1983)\n",
      "('Vesey Pl & River Terrace', 1939)\n",
      "('W 14 St & The High Line', 1877)\n",
      "('Old Fulton St', 1761)\n",
      "('Washington St & Gansevoort St', 1683)\n",
      "('Cleveland Pl & Spring St', 1628)\n",
      "('9 Ave & W 14 St', 1586)\n",
      "('E 17 St & Broadway', 1541)\n",
      "('Broadway & Battery Pl', 1408)\n",
      "('Carmine St & 6 Ave', 1376)\n",
      "('W 20 St & 11 Ave', 1337)\n",
      "('Christopher St & Greenwich St', 1300)\n"
     ]
    }
   ],
   "source": [
    "for i in ['2016','2015','2014']:\n",
    "    print i, \"popular stations of non-subscribers\\n\"\n",
    "    for s in heapq.nlargest(20, (G_cus[i].degree(G_cus[i].nodes(), weight = 'weight')).items(), key=operator.itemgetter(1)):\n",
    "        print s"
   ]
  },
  {
   "cell_type": "code",
   "execution_count": 174,
   "metadata": {
    "collapsed": false
   },
   "outputs": [
    {
     "name": "stdout",
     "output_type": "stream",
     "text": [
      "2016 popular stations of subscribers\n",
      "\n",
      "('Pershing Square North', 30585)\n",
      "('Cooper Square & E 7 St', 24282)\n",
      "('Broadway & E 22 St', 20971)\n",
      "('W 21 St & 6 Ave', 20423)\n",
      "('West St & Chambers St', 20356)\n",
      "('E 17 St & Broadway', 20109)\n",
      "('Broadway & E 14 St', 17735)\n",
      "('8 Ave & W 33 St', 17330)\n",
      "('E 20 St & 2 Ave', 17295)\n",
      "('Greenwich Ave & 8 Ave', 17162)\n",
      "('W 41 St & 8 Ave', 16334)\n",
      "('E 10 St & Avenue A', 16265)\n",
      "('Cleveland Pl & Spring St', 16063)\n",
      "('W 20 St & 11 Ave', 15471)\n",
      "('Carmine St & 6 Ave', 15469)\n",
      "('E 47 St & Park Ave', 15433)\n",
      "('W 18 St & 6 Ave', 14999)\n",
      "('Great Jones St', 14810)\n",
      "('W 52 St & 5 Ave', 14767)\n",
      "('8 Ave & W 31 St', 14728)\n",
      "2015 popular stations of subscribers\n",
      "\n",
      "('8 Ave & W 31 St', 24607)\n",
      "('Pershing Square North', 23723)\n",
      "('Lafayette St & E 8 St', 20897)\n",
      "('W 21 St & 6 Ave', 19324)\n",
      "('E 17 St & Broadway', 18239)\n",
      "('Broadway & E 14 St', 16091)\n",
      "('Cleveland Pl & Spring St', 15223)\n",
      "('Greenwich Ave & 8 Ave', 15183)\n",
      "('West St & Chambers St', 15016)\n",
      "('W 41 St & 8 Ave', 14894)\n",
      "('Carmine St & 6 Ave', 14511)\n",
      "('Broadway & E 22 St', 14337)\n",
      "('W 18 St & 6 Ave', 13513)\n",
      "('Lexington Ave & E 24 St', 13402)\n",
      "('Vesey Pl & River Terrace', 13294)\n",
      "('E 43 St & Vanderbilt Ave', 13117)\n",
      "('University Pl & E 14 St', 12980)\n",
      "('Barrow St & Hudson St', 12963)\n",
      "('W 20 St & 11 Ave', 12832)\n",
      "('Lafayette St & Jersey St', 12621)\n",
      "2014 popular stations of subscribers\n",
      "\n",
      "('8 Ave & W 31 St', 20907)\n",
      "('Lafayette St & E 8 St', 18995)\n",
      "('E 17 St & Broadway', 18204)\n",
      "('Pershing Square North', 18032)\n",
      "('W 21 St & 6 Ave', 16561)\n",
      "('University Pl & E 14 St', 14623)\n",
      "('Broadway & E 14 St', 13609)\n",
      "('Greenwich Ave & 8 Ave', 13181)\n",
      "('West St & Chambers St', 12682)\n",
      "('Broadway & E 22 St', 12680)\n",
      "('Cleveland Pl & Spring St', 12447)\n",
      "('2 Ave & E 31 St', 12241)\n",
      "('Carmine St & 6 Ave', 12059)\n",
      "('W 18 St & 6 Ave', 11957)\n",
      "('Broadway & W 24 St', 11927)\n",
      "('W 41 St & 8 Ave', 11871)\n",
      "('Vesey Pl & River Terrace', 11771)\n",
      "('Christopher St & Greenwich St', 11658)\n",
      "('W 22 St & 10 Ave', 11307)\n",
      "('W 31 St & 7 Ave', 11146)\n"
     ]
    }
   ],
   "source": [
    "for i in ['2016','2015','2014']:\n",
    "    print i, \"popular stations of subscribers\\n\"\n",
    "    for s in heapq.nlargest(20, (G_sub[i].degree(G_sub[i].nodes(), weight = 'weight')).items(), key=operator.itemgetter(1)):\n",
    "        print s"
   ]
  },
  {
   "cell_type": "code",
   "execution_count": 114,
   "metadata": {
    "collapsed": false
   },
   "outputs": [
    {
     "data": {
      "text/plain": [
       "221217"
      ]
     },
     "execution_count": 114,
     "metadata": {},
     "output_type": "execute_result"
    }
   ],
   "source": [
    "sum(list(G2.degree(G2.nodes(), weight = 'weight').values()))/2"
   ]
  },
  {
   "cell_type": "code",
   "execution_count": 127,
   "metadata": {
    "collapsed": false
   },
   "outputs": [
    {
     "data": {
      "text/plain": [
       "[('Central Park S & 6 Ave', 11592),\n",
       " ('Centre St & Chambers St', 7905),\n",
       " ('West St & Chambers St', 6765),\n",
       " ('12 Ave & W 40 St', 6686),\n",
       " ('5 Ave & E 73 St', 6665),\n",
       " ('5 Ave & E 88 St', 6445),\n",
       " ('Central Park West & W 72 St', 5790),\n",
       " ('Grand Army Plaza & Central Park S', 5783),\n",
       " ('Central Park North & Adam Clayton Powell Blvd', 5494),\n",
       " ('5 Ave & E 78 St', 4962),\n",
       " ('Pier 40 - Hudson River Park', 4760),\n",
       " ('Old Fulton St', 3980),\n",
       " ('Little West St & 1 Pl', 3868),\n",
       " ('Broadway & W 60 St', 3678),\n",
       " ('South End Ave & Liberty St', 3553),\n",
       " ('Washington St & Gansevoort St', 3410),\n",
       " ('Central Park West & W 76 St', 3362),\n",
       " ('W 20 St & 11 Ave', 3230),\n",
       " ('Central Park West & W 68 St', 3195),\n",
       " ('W 14 St & The High Line', 3116),\n",
       " ('Broadway & W 58 St', 3063),\n",
       " ('Central Park West & W 85 St', 2806),\n",
       " ('S 5 Pl & S 4 St', 2792),\n",
       " ('Broadway & W 24 St', 2775),\n",
       " ('Cleveland Pl & Spring St', 2507),\n",
       " ('Cadman Plaza E & Tillary St', 2377),\n",
       " ('Bus Slip & State St', 2322),\n",
       " ('Central Park W & W 96 St', 2296),\n",
       " ('Broadway & W 49 St', 2285),\n",
       " ('Broadway & Battery Pl', 2259)]"
      ]
     },
     "execution_count": 127,
     "metadata": {},
     "output_type": "execute_result"
    }
   ],
   "source": [
    "popular_stations_cus = heapq.nlargest(30, (G2.degree(G2.nodes(), weight = 'weight')).items(), key=operator.itemgetter(1))\n",
    "\n",
    "popular_stations_cus"
   ]
  },
  {
   "cell_type": "markdown",
   "metadata": {},
   "source": [
    "Interesting Findings:\n",
    "    1. "
   ]
  }
 ],
 "metadata": {
  "kernelspec": {
   "display_name": "Python 2",
   "language": "python",
   "name": "python2"
  },
  "language_info": {
   "codemirror_mode": {
    "name": "ipython",
    "version": 2
   },
   "file_extension": ".py",
   "mimetype": "text/x-python",
   "name": "python",
   "nbconvert_exporter": "python",
   "pygments_lexer": "ipython2",
   "version": "2.7.13"
  }
 },
 "nbformat": 4,
 "nbformat_minor": 0
}
